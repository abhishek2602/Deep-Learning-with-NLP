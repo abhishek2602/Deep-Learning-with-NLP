{
  "nbformat": 4,
  "nbformat_minor": 0,
  "metadata": {
    "colab": {
      "name": "Sentiment_Analysis_RNN_LSTM.ipynb",
      "version": "0.3.2",
      "provenance": [],
      "collapsed_sections": [],
      "include_colab_link": true
    },
    "kernelspec": {
      "name": "python3",
      "display_name": "Python 3"
    }
  },
  "cells": [
    {
      "cell_type": "markdown",
      "metadata": {
        "id": "view-in-github",
        "colab_type": "text"
      },
      "source": [
        "<a href=\"https://colab.research.google.com/github/abhishek2602/Deep-Learning-with-NLP/blob/master/Sentiment_Analysis_RNN_LSTM.ipynb\" target=\"_parent\"><img src=\"https://colab.research.google.com/assets/colab-badge.svg\" alt=\"Open In Colab\"/></a>"
      ]
    },
    {
      "metadata": {
        "id": "YVjiOz_uqFjC",
        "colab_type": "text"
      },
      "cell_type": "markdown",
      "source": [
        "## Import Movie Review Data"
      ]
    },
    {
      "metadata": {
        "id": "u-rE87dbgr6L",
        "colab_type": "code",
        "colab": {}
      },
      "cell_type": "code",
      "source": [
        "import numpy as np"
      ],
      "execution_count": 0,
      "outputs": []
    },
    {
      "metadata": {
        "id": "pMe3Lfp9giLA",
        "colab_type": "code",
        "colab": {}
      },
      "cell_type": "code",
      "source": [
        "np.random.seed(42) # Set the seed"
      ],
      "execution_count": 0,
      "outputs": []
    },
    {
      "metadata": {
        "id": "Jy9Q2zO1hpU4",
        "colab_type": "code",
        "colab": {}
      },
      "cell_type": "code",
      "source": [
        "import pandas as pd"
      ],
      "execution_count": 0,
      "outputs": []
    },
    {
      "metadata": {
        "id": "852xIjH4RGy0",
        "colab_type": "code",
        "colab": {}
      },
      "cell_type": "code",
      "source": [
        "# Code to read csv file into Colaboratory:\n",
        "!pip install -U -q PyDrive\n",
        "from pydrive.auth import GoogleAuth\n",
        "from pydrive.drive import GoogleDrive\n",
        "from google.colab import auth\n",
        "from oauth2client.client import GoogleCredentials\n",
        "\n",
        "# Authenticate and create the PyDrive client.\n",
        "auth.authenticate_user()\n",
        "gauth = GoogleAuth()\n",
        "gauth.credentials = GoogleCredentials.get_application_default()\n",
        "drive = GoogleDrive(gauth)"
      ],
      "execution_count": 0,
      "outputs": []
    },
    {
      "metadata": {
        "id": "qkyfbzLhRQkn",
        "colab_type": "code",
        "colab": {}
      },
      "cell_type": "code",
      "source": [
        "link = \"https://drive.google.com/open?id=15skTiFzK7cuAyGD6jUTlOfYq3FLU7dy5\"\n",
        "fluff, id = link.split('=')\n",
        "downloaded = drive.CreateFile({'id':id}) \n",
        "downloaded.GetContentFile('labeledTrainData.tsv')  \n",
        "df = pd.read_csv('labeledTrainData.tsv', header = 0, delimiter = '\\t', quoting = 3)"
      ],
      "execution_count": 0,
      "outputs": []
    },
    {
      "metadata": {
        "id": "9VLI7DyOiw7B",
        "colab_type": "code",
        "colab": {}
      },
      "cell_type": "code",
      "source": [
        "# Spliting the Data into Training and Test Data\n",
        "from sklearn.model_selection import train_test_split"
      ],
      "execution_count": 0,
      "outputs": []
    },
    {
      "metadata": {
        "id": "wcPjf86Ri1yY",
        "colab_type": "code",
        "colab": {}
      },
      "cell_type": "code",
      "source": [
        "X_train, X_test, y_train, y_test = train_test_split(\n",
        "    df['review'], df['sentiment'], test_size = 0.2,\n",
        "    random_state = 42)"
      ],
      "execution_count": 0,
      "outputs": []
    },
    {
      "metadata": {
        "id": "0ytwLrJ6jkoH",
        "colab_type": "text"
      },
      "cell_type": "markdown",
      "source": [
        "## Build the Tokenizer"
      ]
    },
    {
      "metadata": {
        "id": "dln9FO2DjYrJ",
        "colab_type": "code",
        "colab": {}
      },
      "cell_type": "code",
      "source": [
        "from tensorflow.python.keras.preprocessing.text import Tokenizer"
      ],
      "execution_count": 0,
      "outputs": []
    },
    {
      "metadata": {
        "id": "pfFkQxWDk6Af",
        "colab_type": "code",
        "colab": {}
      },
      "cell_type": "code",
      "source": [
        "top_words = 10000"
      ],
      "execution_count": 0,
      "outputs": []
    },
    {
      "metadata": {
        "id": "deRq-RA7jtHJ",
        "colab_type": "code",
        "colab": {}
      },
      "cell_type": "code",
      "source": [
        "t = Tokenizer(num_words = top_words)"
      ],
      "execution_count": 0,
      "outputs": []
    },
    {
      "metadata": {
        "id": "BziwnFlPj9T4",
        "colab_type": "code",
        "colab": {}
      },
      "cell_type": "code",
      "source": [
        "t.fit_on_texts(X_train.tolist())"
      ],
      "execution_count": 0,
      "outputs": []
    },
    {
      "metadata": {
        "id": "YTQIAXzROxRy",
        "colab_type": "text"
      },
      "cell_type": "markdown",
      "source": [
        "## Prepare Training and Test Data"
      ]
    },
    {
      "metadata": {
        "id": "BPv4JWs4Ot3S",
        "colab_type": "code",
        "colab": {}
      },
      "cell_type": "code",
      "source": [
        "# Get each word index for each of the word in the review\n",
        "X_train = t.texts_to_sequences(X_train.tolist())\n",
        "X_test = t.texts_to_sequences(X_test.tolist())"
      ],
      "execution_count": 0,
      "outputs": []
    },
    {
      "metadata": {
        "id": "V50a-q_bPi3O",
        "colab_type": "text"
      },
      "cell_type": "markdown",
      "source": [
        "## Pad Sequence "
      ]
    },
    {
      "metadata": {
        "id": "ZNrG_HQZPd1K",
        "colab_type": "code",
        "colab": {}
      },
      "cell_type": "code",
      "source": [
        "from tensorflow.python.keras.preprocessing import sequence"
      ],
      "execution_count": 0,
      "outputs": []
    },
    {
      "metadata": {
        "id": "rRcUDbwTPpyy",
        "colab_type": "code",
        "colab": {}
      },
      "cell_type": "code",
      "source": [
        "max_review_length = 300"
      ],
      "execution_count": 0,
      "outputs": []
    },
    {
      "metadata": {
        "id": "ukB4XCrrPsdB",
        "colab_type": "code",
        "colab": {}
      },
      "cell_type": "code",
      "source": [
        "X_train = sequence.pad_sequences(X_train, maxlen = max_review_length, padding = 'post')\n",
        "X_test = sequence.pad_sequences(X_test, maxlen = max_review_length, padding = 'post')"
      ],
      "execution_count": 0,
      "outputs": []
    },
    {
      "metadata": {
        "id": "ZYxdsDReXg9c",
        "colab_type": "text"
      },
      "cell_type": "markdown",
      "source": [
        "## Build Embedding Matrix rom Pre-trained Word2Vec"
      ]
    },
    {
      "metadata": {
        "id": "14svfFy1XfWV",
        "colab_type": "code",
        "colab": {}
      },
      "cell_type": "code",
      "source": [
        "import gensim"
      ],
      "execution_count": 0,
      "outputs": []
    },
    {
      "metadata": {
        "id": "c46gmfGtXnDJ",
        "colab_type": "code",
        "colab": {}
      },
      "cell_type": "code",
      "source": [
        "word2vec = gensim.models.Word2Vec.load('word2vec-movie-50')"
      ],
      "execution_count": 0,
      "outputs": []
    },
    {
      "metadata": {
        "id": "nrQpRMkkYKjq",
        "colab_type": "code",
        "outputId": "2b8133cb-9a66-40b9-f041-47ad51c0325a",
        "colab": {
          "base_uri": "https://localhost:8080/",
          "height": 81
        }
      },
      "cell_type": "code",
      "source": [
        "embedding_vector_length = word2vec.wv.syn0.shape[1]"
      ],
      "execution_count": 19,
      "outputs": [
        {
          "output_type": "stream",
          "text": [
            "/usr/local/lib/python3.6/dist-packages/ipykernel_launcher.py:1: DeprecationWarning: Call to deprecated `syn0` (Attribute will be removed in 4.0.0, use self.wv.vectors instead).\n",
            "  \"\"\"Entry point for launching an IPython kernel.\n"
          ],
          "name": "stderr"
        }
      ]
    },
    {
      "metadata": {
        "id": "U_SJRv9HYVei",
        "colab_type": "code",
        "colab": {}
      },
      "cell_type": "code",
      "source": [
        "embedding_matrix = np.zeros((top_words + 1, embedding_vector_length))"
      ],
      "execution_count": 0,
      "outputs": []
    },
    {
      "metadata": {
        "id": "k6GziZ6LYgXq",
        "colab_type": "code",
        "colab": {}
      },
      "cell_type": "code",
      "source": [
        "for word, i in sorted(t.word_index.items(), key = lambda x: x[1]):\n",
        "    if i > top_words:\n",
        "        break\n",
        "    if word in word2vec.wv.vocab:\n",
        "        embedding_vector = word2vec.wv[word]\n",
        "        embedding_matrix[i] = embedding_vector"
      ],
      "execution_count": 0,
      "outputs": []
    },
    {
      "metadata": {
        "id": "41DTHU6EZAng",
        "colab_type": "text"
      },
      "cell_type": "markdown",
      "source": [
        "## Build the Graph"
      ]
    },
    {
      "metadata": {
        "id": "D9x8E8hvY-6x",
        "colab_type": "code",
        "colab": {}
      },
      "cell_type": "code",
      "source": [
        "from tensorflow.python.keras.models import Sequential\n",
        "from tensorflow.python.keras.layers import Dropout, Dense, Embedding, Flatten, LSTM"
      ],
      "execution_count": 0,
      "outputs": []
    },
    {
      "metadata": {
        "id": "hI9LqR-1qp8x",
        "colab_type": "code",
        "colab": {}
      },
      "cell_type": "code",
      "source": [
        "model = Sequential()"
      ],
      "execution_count": 0,
      "outputs": []
    },
    {
      "metadata": {
        "id": "pIpfRhiJrGv6",
        "colab_type": "code",
        "colab": {
          "base_uri": "https://localhost:8080/",
          "height": 98
        },
        "outputId": "4478a177-6358-403b-cd73-5dc8e748fde7"
      },
      "cell_type": "code",
      "source": [
        "model.add(Embedding(top_words + 1,\n",
        "                    embedding_vector_length,\n",
        "                    input_length = max_review_length,\n",
        "                    weights = [embedding_matrix],\n",
        "                    trainable = False))"
      ],
      "execution_count": 24,
      "outputs": [
        {
          "output_type": "stream",
          "text": [
            "WARNING:tensorflow:From /usr/local/lib/python3.6/dist-packages/tensorflow/python/ops/resource_variable_ops.py:435: colocate_with (from tensorflow.python.framework.ops) is deprecated and will be removed in a future version.\n",
            "Instructions for updating:\n",
            "Colocations handled automatically by placer.\n"
          ],
          "name": "stdout"
        }
      ]
    },
    {
      "metadata": {
        "id": "kIAia8jGrWtR",
        "colab_type": "code",
        "colab": {
          "base_uri": "https://localhost:8080/",
          "height": 98
        },
        "outputId": "4d3260d2-29a9-4e31-a95b-ccac0492d536"
      },
      "cell_type": "code",
      "source": [
        "model.add(LSTM(100, dropout = 0.2, recurrent_dropout = 0.2))"
      ],
      "execution_count": 30,
      "outputs": [
        {
          "output_type": "stream",
          "text": [
            "WARNING:tensorflow:From /usr/local/lib/python3.6/dist-packages/tensorflow/python/keras/backend.py:4010: calling dropout (from tensorflow.python.ops.nn_ops) with keep_prob is deprecated and will be removed in a future version.\n",
            "Instructions for updating:\n",
            "Please use `rate` instead of `keep_prob`. Rate should be set to `rate = 1 - keep_prob`.\n"
          ],
          "name": "stdout"
        }
      ]
    },
    {
      "metadata": {
        "id": "6wPRx0fJrZ3i",
        "colab_type": "code",
        "colab": {}
      },
      "cell_type": "code",
      "source": [
        "model.add(Dense(1, activation = 'sigmoid'))"
      ],
      "execution_count": 0,
      "outputs": []
    },
    {
      "metadata": {
        "id": "LeMK3SZ7rry6",
        "colab_type": "code",
        "colab": {}
      },
      "cell_type": "code",
      "source": [
        "model.compile(optimizer = 'adam', loss = 'binary_crossentropy', metrics = ['accuracy'])"
      ],
      "execution_count": 0,
      "outputs": []
    },
    {
      "metadata": {
        "id": "OVljEfX3r1o1",
        "colab_type": "text"
      },
      "cell_type": "markdown",
      "source": [
        "## Execute the graph"
      ]
    },
    {
      "metadata": {
        "id": "uSVORGMwrz0q",
        "colab_type": "code",
        "colab": {
          "base_uri": "https://localhost:8080/",
          "height": 1142
        },
        "outputId": "aac4f658-e650-44a0-8c92-b737e436509a"
      },
      "cell_type": "code",
      "source": [
        "model.fit(X_train, y_train,\n",
        "          epochs = 30,\n",
        "          batch_size = 128,\n",
        "          validation_data = (X_test, y_test),\n",
        "          verbose = 1)"
      ],
      "execution_count": 33,
      "outputs": [
        {
          "output_type": "stream",
          "text": [
            "Train on 20000 samples, validate on 5000 samples\n",
            "WARNING:tensorflow:From /usr/local/lib/python3.6/dist-packages/tensorflow/python/ops/math_ops.py:3066: to_int32 (from tensorflow.python.ops.math_ops) is deprecated and will be removed in a future version.\n",
            "Instructions for updating:\n",
            "Use tf.cast instead.\n",
            "Epoch 1/30\n",
            "20000/20000 [==============================] - 202s 10ms/sample - loss: 0.6937 - acc: 0.5011 - val_loss: 0.6931 - val_acc: 0.5034\n",
            "Epoch 2/30\n",
            "20000/20000 [==============================] - 201s 10ms/sample - loss: 0.6933 - acc: 0.4996 - val_loss: 0.6931 - val_acc: 0.5038\n",
            "Epoch 3/30\n",
            "20000/20000 [==============================] - 202s 10ms/sample - loss: 0.6932 - acc: 0.5057 - val_loss: 0.6930 - val_acc: 0.5042\n",
            "Epoch 4/30\n",
            "20000/20000 [==============================] - 200s 10ms/sample - loss: 0.6932 - acc: 0.5023 - val_loss: 0.6931 - val_acc: 0.5022\n",
            "Epoch 5/30\n",
            "20000/20000 [==============================] - 201s 10ms/sample - loss: 0.6929 - acc: 0.5082 - val_loss: 0.6928 - val_acc: 0.5136\n",
            "Epoch 6/30\n",
            "20000/20000 [==============================] - 200s 10ms/sample - loss: 0.6923 - acc: 0.5161 - val_loss: 0.6926 - val_acc: 0.5168\n",
            "Epoch 7/30\n",
            "20000/20000 [==============================] - 200s 10ms/sample - loss: 0.6926 - acc: 0.5089 - val_loss: 0.6928 - val_acc: 0.5128\n",
            "Epoch 8/30\n",
            "20000/20000 [==============================] - 201s 10ms/sample - loss: 0.6921 - acc: 0.5109 - val_loss: 0.6913 - val_acc: 0.5182\n",
            "Epoch 9/30\n",
            "20000/20000 [==============================] - 200s 10ms/sample - loss: 0.6925 - acc: 0.5113 - val_loss: 0.6926 - val_acc: 0.5122\n",
            "Epoch 10/30\n",
            "20000/20000 [==============================] - 200s 10ms/sample - loss: 0.6916 - acc: 0.5124 - val_loss: 0.6929 - val_acc: 0.5122\n",
            "Epoch 11/30\n",
            "20000/20000 [==============================] - 200s 10ms/sample - loss: 0.6910 - acc: 0.5198 - val_loss: 0.6900 - val_acc: 0.5328\n",
            "Epoch 12/30\n",
            "20000/20000 [==============================] - 199s 10ms/sample - loss: 0.6878 - acc: 0.5256 - val_loss: 0.6914 - val_acc: 0.5226\n",
            "Epoch 13/30\n",
            "20000/20000 [==============================] - 198s 10ms/sample - loss: 0.6933 - acc: 0.5338 - val_loss: 0.6540 - val_acc: 0.6716\n",
            "Epoch 14/30\n",
            "20000/20000 [==============================] - 199s 10ms/sample - loss: 0.6890 - acc: 0.5277 - val_loss: 0.6930 - val_acc: 0.5094\n",
            "Epoch 15/30\n",
            "20000/20000 [==============================] - 200s 10ms/sample - loss: 0.6935 - acc: 0.5137 - val_loss: 0.6920 - val_acc: 0.5074\n",
            "Epoch 16/30\n",
            "20000/20000 [==============================] - 199s 10ms/sample - loss: 0.6906 - acc: 0.5205 - val_loss: 0.6909 - val_acc: 0.5386\n",
            "Epoch 17/30\n",
            "20000/20000 [==============================] - 201s 10ms/sample - loss: 0.6919 - acc: 0.5199 - val_loss: 0.6875 - val_acc: 0.5572\n",
            "Epoch 18/30\n",
            "20000/20000 [==============================] - 197s 10ms/sample - loss: 0.6910 - acc: 0.5180 - val_loss: 0.6927 - val_acc: 0.5218\n",
            "Epoch 19/30\n",
            "20000/20000 [==============================] - 197s 10ms/sample - loss: 0.6918 - acc: 0.5148 - val_loss: 0.6930 - val_acc: 0.5072\n",
            "Epoch 20/30\n",
            "20000/20000 [==============================] - 197s 10ms/sample - loss: 0.6922 - acc: 0.5177 - val_loss: 0.6909 - val_acc: 0.5304\n",
            "Epoch 21/30\n",
            "20000/20000 [==============================] - 199s 10ms/sample - loss: 0.6930 - acc: 0.5088 - val_loss: 0.6923 - val_acc: 0.5216\n",
            "Epoch 22/30\n",
            "20000/20000 [==============================] - 198s 10ms/sample - loss: 0.6921 - acc: 0.5156 - val_loss: 0.6914 - val_acc: 0.5294\n",
            "Epoch 23/30\n",
            "20000/20000 [==============================] - 198s 10ms/sample - loss: 0.6900 - acc: 0.5158 - val_loss: 0.6923 - val_acc: 0.5162\n",
            "Epoch 24/30\n",
            "20000/20000 [==============================] - 199s 10ms/sample - loss: 0.6904 - acc: 0.5229 - val_loss: 0.6922 - val_acc: 0.5170\n",
            "Epoch 25/30\n",
            "20000/20000 [==============================] - 199s 10ms/sample - loss: 0.6908 - acc: 0.5163 - val_loss: 0.6940 - val_acc: 0.5014\n",
            "Epoch 26/30\n",
            "20000/20000 [==============================] - 198s 10ms/sample - loss: 0.6881 - acc: 0.5319 - val_loss: 0.6823 - val_acc: 0.5522\n",
            "Epoch 27/30\n",
            "20000/20000 [==============================] - 199s 10ms/sample - loss: 0.6838 - acc: 0.5628 - val_loss: 0.6745 - val_acc: 0.5870\n",
            "Epoch 28/30\n",
            "20000/20000 [==============================] - 198s 10ms/sample - loss: 0.6791 - acc: 0.5791 - val_loss: 0.6750 - val_acc: 0.5812\n",
            "Epoch 29/30\n",
            "20000/20000 [==============================] - 198s 10ms/sample - loss: 0.6791 - acc: 0.5758 - val_loss: 0.6772 - val_acc: 0.5718\n",
            "Epoch 30/30\n",
            "20000/20000 [==============================] - 199s 10ms/sample - loss: 0.6784 - acc: 0.5712 - val_loss: 0.6726 - val_acc: 0.5836\n"
          ],
          "name": "stdout"
        },
        {
          "output_type": "execute_result",
          "data": {
            "text/plain": [
              "<tensorflow.python.keras.callbacks.History at 0x7ff13d0eec88>"
            ]
          },
          "metadata": {
            "tags": []
          },
          "execution_count": 33
        }
      ]
    },
    {
      "metadata": {
        "id": "B5zSKsyOsHQy",
        "colab_type": "code",
        "colab": {}
      },
      "cell_type": "code",
      "source": [
        ""
      ],
      "execution_count": 0,
      "outputs": []
    }
  ]
}