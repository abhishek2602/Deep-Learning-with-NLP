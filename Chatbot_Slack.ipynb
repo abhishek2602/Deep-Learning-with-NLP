{
  "nbformat": 4,
  "nbformat_minor": 0,
  "metadata": {
    "colab": {
      "name": "Chatbot_Slack.ipynb",
      "version": "0.3.2",
      "provenance": [],
      "collapsed_sections": [],
      "include_colab_link": true
    },
    "kernelspec": {
      "name": "python3",
      "display_name": "Python 3"
    }
  },
  "cells": [
    {
      "cell_type": "markdown",
      "metadata": {
        "id": "view-in-github",
        "colab_type": "text"
      },
      "source": [
        "<a href=\"https://colab.research.google.com/github/abhishek2602/Deep-Learning-with-NLP/blob/master/Chatbot_Slack.ipynb\" target=\"_parent\"><img src=\"https://colab.research.google.com/assets/colab-badge.svg\" alt=\"Open In Colab\"/></a>"
      ]
    },
    {
      "metadata": {
        "id": "Tho0lWyB701l",
        "colab_type": "text"
      },
      "cell_type": "markdown",
      "source": [
        "## Import Prediction Code\n",
        "\n"
      ]
    },
    {
      "metadata": {
        "id": "3_oZxfeG7Jbf",
        "colab_type": "code",
        "colab": {
          "base_uri": "https://localhost:8080/",
          "height": 144
        },
        "outputId": "4af924f1-ae30-4aef-cc80-d3219ca5da74"
      },
      "cell_type": "code",
      "source": [
        "import seq2seq_prediction as model"
      ],
      "execution_count": 1,
      "outputs": [
        {
          "output_type": "stream",
          "text": [
            "WARNING:tensorflow:From /usr/local/lib/python3.6/dist-packages/tensorflow/python/ops/resource_variable_ops.py:435: colocate_with (from tensorflow.python.framework.ops) is deprecated and will be removed in a future version.\n",
            "Instructions for updating:\n",
            "Colocations handled automatically by placer.\n",
            "WARNING:tensorflow:From /usr/local/lib/python3.6/dist-packages/tensorflow/python/keras/utils/losses_utils.py:170: to_float (from tensorflow.python.ops.math_ops) is deprecated and will be removed in a future version.\n",
            "Instructions for updating:\n",
            "Use tf.cast instead.\n"
          ],
          "name": "stdout"
        }
      ]
    },
    {
      "metadata": {
        "id": "JdLT2Q5J8HXj",
        "colab_type": "text"
      },
      "cell_type": "markdown",
      "source": [
        "Build a Web Service using Flask"
      ]
    },
    {
      "metadata": {
        "id": "-VJS-lqI8Etl",
        "colab_type": "code",
        "colab": {}
      },
      "cell_type": "code",
      "source": [
        "from flask import Flask, request"
      ],
      "execution_count": 0,
      "outputs": []
    },
    {
      "metadata": {
        "id": "OFcoj0qH8QLe",
        "colab_type": "code",
        "colab": {}
      },
      "cell_type": "code",
      "source": [
        "app = Flask(__name__)"
      ],
      "execution_count": 0,
      "outputs": []
    },
    {
      "metadata": {
        "id": "LXheN2U18XJf",
        "colab_type": "code",
        "colab": {}
      },
      "cell_type": "code",
      "source": [
        "@app.route('/', methods = ['GET', 'POST'])\n",
        "def eng_hin_translate():\n",
        "    #Extract user name\n",
        "    user_name = request.form['user_name']\n",
        "    #Extract English Text\n",
        "    text = request.form['text']\n",
        "    \n",
        "    try:\n",
        "        hin_translation = 'Here is the hindi translation of your input...\\n' + model.decode_sentence(text)\n",
        "    except:\n",
        "        hin_translation = 'Sorry, I did not understand your sentence.'\n",
        "        \n",
        "    #translate and return back the text\n",
        "    return 'Hi' + user_name.title() + ',' + hin_translation"
      ],
      "execution_count": 0,
      "outputs": []
    },
    {
      "metadata": {
        "id": "zbcyftfs9NLn",
        "colab_type": "code",
        "colab": {
          "base_uri": "https://localhost:8080/",
          "height": 149
        },
        "outputId": "d8339d34-998f-44c9-a6db-9566e2f59183"
      },
      "cell_type": "code",
      "source": [
        "if __name__ == '__main__':\n",
        "    # Start http server locally on port 5000\n",
        "    app.run()"
      ],
      "execution_count": 6,
      "outputs": [
        {
          "output_type": "stream",
          "text": [
            " * Serving Flask app \"__main__\" (lazy loading)\n",
            " * Environment: production\n",
            "   WARNING: Do not use the development server in a production environment.\n",
            "   Use a production WSGI server instead.\n",
            " * Debug mode: off\n"
          ],
          "name": "stdout"
        },
        {
          "output_type": "stream",
          "text": [
            " * Running on http://127.0.0.1:5000/ (Press CTRL+C to quit)\n"
          ],
          "name": "stderr"
        }
      ]
    },
    {
      "metadata": {
        "id": "uxBif0iW9Yem",
        "colab_type": "code",
        "colab": {}
      },
      "cell_type": "code",
      "source": [
        ""
      ],
      "execution_count": 0,
      "outputs": []
    }
  ]
}